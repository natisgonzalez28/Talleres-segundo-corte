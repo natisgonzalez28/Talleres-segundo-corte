{
  "nbformat": 4,
  "nbformat_minor": 0,
  "metadata": {
    "colab": {
      "provenance": [],
      "authorship_tag": "ABX9TyOZD3WBnF+Coz8iNJ0OhDoS",
      "include_colab_link": true
    },
    "kernelspec": {
      "name": "python3",
      "display_name": "Python 3"
    },
    "language_info": {
      "name": "python"
    }
  },
  "cells": [
    {
      "cell_type": "markdown",
      "metadata": {
        "id": "view-in-github",
        "colab_type": "text"
      },
      "source": [
        "<a href=\"https://colab.research.google.com/github/natisgonzalez28/Talleres-segundo-corte/blob/main/GuiaClasesyPruebasUnitarias.ipynb\" target=\"_parent\"><img src=\"https://colab.research.google.com/assets/colab-badge.svg\" alt=\"Open In Colab\"/></a>"
      ]
    },
    {
      "cell_type": "markdown",
      "source": [
        "Guía de Laboratorio: Clases y Pruebas Unitarias en Python"
      ],
      "metadata": {
        "id": "hldDT6y8KWrO"
      }
    },
    {
      "cell_type": "markdown",
      "source": [
        "Implementacion de la clase persona"
      ],
      "metadata": {
        "id": "GHOHtjTgKeb9"
      }
    },
    {
      "cell_type": "code",
      "source": [
        "from datetime import date\n",
        "class Person:\n",
        "    def __init__(self, n, e, b):\n",
        "        self.__name = n\n",
        "        self.set_email(e)\n",
        "        self.__age = self.calculateAge(b)\n",
        "\n",
        "    def calculateAge(self, b):\n",
        "        days_in_year = 365.2425\n",
        "        age = int((date.today() - b).days / days_in_year)\n",
        "        return age\n",
        "\n",
        "    def set_email(self, e):\n",
        "        if e.count(\"@\") == 1 and e.find(\"@\") >= 1 and e.find(\"@\") + 2 < e.find(\".\"):\n",
        "            self.__email = e\n",
        "        else:\n",
        "            print(\"Invalid email\", e)\n",
        "\n",
        "    def get_email(self):\n",
        "        return self.__email\n",
        "\n",
        "    def get_name(self):\n",
        "        return self.__name\n",
        "\n",
        "    def set_name(self, n):\n",
        "        self.__name = n\n",
        "\n",
        "    def get_age(self):\n",
        "        return self.__age\n",
        "\n",
        "    def __eq__(self, other):\n",
        "        return self.__name == other.__name\n",
        "\n",
        "    def __str__(self):\n",
        "        return f\"name: {self.__name}\\t email: {self.__email}\\t age: {self.__age}\""
      ],
      "metadata": {
        "id": "RmAaacCbKdqE"
      },
      "execution_count": null,
      "outputs": []
    },
    {
      "cell_type": "markdown",
      "source": [
        "Implementacion de la clase estudiante"
      ],
      "metadata": {
        "id": "mZotOJ3QK97N"
      }
    },
    {
      "cell_type": "code",
      "source": [
        "class Student(Person):\n",
        "    def __init__(self, n, e, b, ID):\n",
        "        Person.__init__(self, n, e, b)\n",
        "        self.__SID = ID\n",
        "        self.__Courses = dict()\n",
        "        self.__AverageGrade = 0\n",
        "\n",
        "    def addCourse(self, CourseID, result):\n",
        "        self.__Courses[CourseID] = result\n",
        "        self.calculateAverage()\n",
        "\n",
        "    def calculateAverage(self):\n",
        "        sum = 0\n",
        "        for g in self.__Courses.values():\n",
        "            sum += g\n",
        "        self.__AverageGrade = sum / len(self.__Courses)\n",
        "\n",
        "    def get_AverageGrade(self):\n",
        "        return self.__AverageGrade\n",
        "\n",
        "    def get_SID(self):\n",
        "        return self.__SID\n",
        "\n",
        "    def get_Courses(self):\n",
        "        return self.__Courses\n",
        "\n",
        "    def set_SID(self, ID):\n",
        "        self.__SID = ID\n",
        "\n",
        "    def __str__(self):\n",
        "        return (super().__str__() + '\\t SID: ' + str(self.__SID) + '\\t Courses: ' + str(self.__Courses) + '\\t AverageGrade: ' + str(self.__AverageGrade))\n",
        "\n",
        "    def __eq__(self, other):\n",
        "        return isinstance(other, Student) and self.__SID == other.__SID  # Compara por ID\n",
        "\n",
        "    def __lt__(self, other):\n",
        "        return self.__AverageGrade < other.__AverageGrade\n"
      ],
      "metadata": {
        "id": "Qdj6ElMSLAhO"
      },
      "execution_count": null,
      "outputs": []
    },
    {
      "cell_type": "markdown",
      "source": [
        "Uso y ejemplos de busqueda"
      ],
      "metadata": {
        "id": "dFiOuldXLjZr"
      }
    },
    {
      "cell_type": "code",
      "source": [
        "if __name__ == \"__main__\":\n",
        "    students_list = []\n",
        "\n",
        "    S1 = Student(\"khouloud\", \"kh@hotmail.com\", date(1995, 2, 3), 123)\n",
        "    S1.addCourse(\"CS120\", 90)\n",
        "    S1.addCourse(\"IT320\", 95)\n",
        "    S1.addCourse(\"CS100\", 95)\n",
        "\n",
        "    S2 = Student(\"khadija\", \"khadija@gmail.com\", date(1995, 9, 3), 232)\n",
        "    S2.addCourse(\"CS120\", 80)\n",
        "    S2.addCourse(\"IT320\", 75)\n",
        "    S2.addCourse(\"CS100\", 95)\n",
        "\n",
        "    S3 = Student(\"khaled\", \"khaled@gamil.com\", date(1999, 5, 6), 235)\n",
        "    S3.addCourse(\"CS120\", 75)\n",
        "    S3.addCourse(\"IT320\", 88)\n",
        "    S3.addCourse(\"CS100\", 90)\n",
        "\n",
        "    students_list.append(S1)\n",
        "    students_list.append(S2)\n",
        "    students_list.append(S3)\n",
        "\n",
        "    searchs = Student(\"Khadija\", \"khadija@gmail.com\", date(1995, 9, 3), 232)\n",
        "\n",
        "    if students_list.count(searchs) > 0:\n",
        "        print(\"the student is found\")\n",
        "    else:\n",
        "        print(\"the student is NOT found\")\n",
        "\n",
        "    students_list.sort()\n",
        "    for p in students_list:\n",
        "        print(p)\n"
      ],
      "metadata": {
        "id": "nsSlpHQwLsNq"
      },
      "execution_count": null,
      "outputs": []
    },
    {
      "cell_type": "markdown",
      "source": [
        "Pruebas unitarias con pytest"
      ],
      "metadata": {
        "id": "ZUHR5fgGLR5U"
      }
    },
    {
      "cell_type": "code",
      "source": [
        "import pytest\n",
        "from datetime import date\n",
        "from classes import Person, Student\n",
        "\n",
        "# Pruebas para la clase Person\n",
        "def test_person_creation():\n",
        "    person = Person(\"John Doe\", \"john.doe@example.com\", date(1990, 5, 20))\n",
        "    assert person.get_name() == \"John Doe\"\n",
        "    assert person.get_email() == \"john.doe@example.com\"\n",
        "    assert person.get_age() == person.calculateAge(date(1990, 5, 20))\n",
        "\n",
        "def test_person_email_validation():\n",
        "    person = Person(\"John Doe\", \"invalid_email\", date(1992, 3, 15))\n",
        "    assert person.get_email() is None  # No debe aceptar un correo inválido\n",
        "\n",
        "def test_person_calcular_edad():\n",
        "    person = Person(\"John Doe\", \"john.doe@example.com\", date(1992, 3, 15))\n",
        "    assert person.get_age() > 0\n",
        "\n",
        "\n",
        "# Pruebas para la clase Student\n",
        "def test_student_creation():\n",
        "    student = Student(\"Alice\", \"alice@example.com\", date(2000, 1, 1), 12345)\n",
        "    assert student.get_name() == \"Alice\"\n",
        "    assert student.get_SID() == 12345\n",
        "    assert student.get_AverageGrade() == 0.0   # Recién creado no tiene notas\n",
        "\n",
        "def test_student_add_courses():\n",
        "    student = Student(\"Bob\", \"bob@example.com\", date(1998, 6, 12), 67890)\n",
        "    student.addCourse(\"CS101\", 90)\n",
        "    student.addCourse(\"Math101\", 85)\n",
        "    assert len(student.get_Courses()) == 2\n",
        "    assert student.get_AverageGrade() == 87.5\n",
        "\n",
        "def test_calculate_Average():\n",
        "    student = Student(\"Bob\", \"bob@example.com\", date(1998, 6, 12), 86363)\n",
        "    student.addCourse(\"Math\", 80)\n",
        "    student.addCourse(\"Science\", 90)\n",
        "    student.addCourse(\"Art\", 100)\n",
        "    promedio_esperado = (80 + 90 + 100) / 3\n",
        "    student.calculateAverage()\n",
        "    assert student.get_AverageGrade() == promedio_esperado\n",
        "\n"
      ],
      "metadata": {
        "id": "TlXBhCW2LWgE"
      },
      "execution_count": null,
      "outputs": []
    },
    {
      "cell_type": "markdown",
      "source": [
        "Instalación pytest"
      ],
      "metadata": {
        "id": "UYSU5ICMMZz8"
      }
    },
    {
      "cell_type": "code",
      "source": [
        "!pip install pytest"
      ],
      "metadata": {
        "id": "s_RiVUeZMcR8"
      },
      "execution_count": null,
      "outputs": []
    },
    {
      "cell_type": "markdown",
      "source": [
        "Ejecucion de pruebas"
      ],
      "metadata": {
        "id": "KmKZr8egMfGe"
      }
    },
    {
      "cell_type": "code",
      "source": [
        "!pytest test_classes.py"
      ],
      "metadata": {
        "id": "vJic9oy3dIUi"
      },
      "execution_count": null,
      "outputs": []
    }
  ]
}